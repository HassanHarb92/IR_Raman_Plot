{
 "cells": [
  {
   "cell_type": "code",
   "execution_count": 1,
   "id": "af30e2a1",
   "metadata": {},
   "outputs": [],
   "source": [
    "from rdkit import Chem\n",
    "from rdkit.Chem import Draw\n",
    "from rdkit.Chem.Draw import IPythonConsole\n",
    "from rdkit.Chem import Descriptors\n",
    "from rdkit.Chem import AllChem\n",
    "from rdkit import DataStructs\n",
    "import numpy as np\n",
    "import os\n",
    "import sys\n",
    "import fileinput\n",
    "import matplotlib.pyplot as plt\n",
    "import pandas as pd\n",
    "from rdkit.Chem import rdmolops\n",
    "from rdkit.Chem.Descriptors import ExactMolWt\n",
    "from rdkit.Chem.Descriptors import HeavyAtomMolWt\n",
    "from rdkit.Chem.Lipinski import *\n",
    "from rdkit.Chem.Descriptors  import *\n",
    "from rdkit.Chem.rdMolDescriptors import *\n",
    "from rdkit.Chem.GraphDescriptors import *"
   ]
  },
  {
   "cell_type": "code",
   "execution_count": 2,
   "id": "3c657585",
   "metadata": {},
   "outputs": [
    {
     "name": "stdout",
     "output_type": "stream",
     "text": [
      "NO Raman data found!!\n"
     ]
    },
    {
     "data": {
      "image/png": "[encoded data removed]",
      "text/plain": [
       "<Figure size 432x288 with 1 Axes>"
      ]
     },
     "metadata": {
      "needs_background": "light"
     },
     "output_type": "display_data"
    },
    {
     "name": "stdout",
     "output_type": "stream",
     "text": [
      "Number of atoms =  13\n",
      "Frequencies =  66\n"
     ]
    }
   ],
   "source": [
    "os.chdir(\"/Users/hassan/Desktop/temp/sulfides/logs/\")\n",
    "filename = '1-test.log'\n",
    "\n",
    "NAtoms = 0\n",
    "IR_present = False\n",
    "Raman_present = False\n",
    "Frequencies = []\n",
    "IR_intensities = []\n",
    "Raman_intensities = []\n",
    "\n",
    "with open (filename) as inp:\n",
    "    for lines in inp:\n",
    "        if \"NAtoms\" in lines:\n",
    "            words = lines.split()\n",
    "            NAtoms = int(words[1])\n",
    "        if \"Frequencies\" in lines:\n",
    "            words = lines.split()\n",
    "            for i in range(2,len(words)):\n",
    "                Frequencies.append(float(words[i]))\n",
    "        if \"IR Inten\" in lines:\n",
    "            IR_present = True\n",
    "            words = lines.split()\n",
    "            for i in range(3,len(words)):\n",
    "                IR_intensities.append(float(words[i]))\n",
    "        if \"Raman Activ\" in lines:\n",
    "            Raman_present = True\n",
    "            words = lines.split()\n",
    "            for i in range(3,len(words)):\n",
    "                Raman_intensities.append(float(words[i]))\n",
    "\n",
    "nFreq = 3*NAtoms - 6\n",
    "if IR_present == False:\n",
    "    print (\"NO IR data found!!\")\n",
    "if Raman_present == False:\n",
    "    print (\"NO Raman data found!!\")\n",
    "\n",
    "if Frequencies[0] <0:\n",
    "    print (\"Warning: One or more imaginary frequencies detected!\")\n",
    "    \n",
    "x  = Frequencies\n",
    "y1 = IR_intensities\n",
    "y2 = Raman_intensities\n",
    "\n",
    "if IR_present == True:\n",
    "    markerline, stemlines, baseline = plt.stem(\n",
    "    x, y1, linefmt='hotpink',basefmt = 'limegreen', markerfmt=' ', bottom=1.1)\n",
    "    markerline.set_markerfacecolor('none')\n",
    "    plt.setp(stemlines, 'linewidth', 0.85)\n",
    "    plt.title(\"IR Spectrum\")\n",
    "    plt.xlabel(\"Frequencies (cm-1)\")\n",
    "    plt.ylabel(\"Intensity\")\n",
    "    plt.show()\n",
    "\n",
    "if Raman_present == True:\n",
    "    markerline, stemlines, baseline = plt.stem(\n",
    "    x, y2, linefmt='teal',basefmt = 'limegreen', markerfmt=' ', bottom=1.1)\n",
    "    markerline.set_markerfacecolor('none')\n",
    "    plt.setp(stemlines, 'linewidth', 0.85)\n",
    "    plt.title(\"Raman Spectrum\")\n",
    "    plt.xlabel(\"Frequencies (cm-1)\")\n",
    "    plt.ylabel(\"Intensity\")\n",
    "    plt.show()\n",
    "    \n",
    "print (\"Number of atoms = \", NAtoms)\n",
    "print (\"Frequencies = \", len(IR_intensities))"
   ]
  },
  {
   "cell_type": "code",
   "execution_count": 3,
   "id": "02c1856e",
   "metadata": {},
   "outputs": [
    {
     "name": "stdout",
     "output_type": "stream",
     "text": [
      "[45.0894, 52.7614, 88.4433, 91.923, 155.3358, 303.7945, 314.0569, 443.3576, 502.8839, 529.2912, 563.7682, 611.0433, 611.1314, 935.9118, 976.5466, 1023.545, 1031.9852, 1106.4624, 1140.3929, 1382.8135, 1383.5372, 1443.5307, 1444.0788, 1457.3739, 1458.1476, 1783.1759, 1847.1306, 3061.2593, 3061.4435, 3147.0805, 3147.1283, 3180.4427, 3180.4992, 105.9335, 110.1005, 116.693, 173.2608, 224.1228, 345.1633, 355.3799, 484.8675, 533.3715, 548.7831, 550.8398, 574.5806, 664.2982, 935.7126, 998.2839, 1031.1095, 1031.2674, 1064.9765, 1161.09, 1371.79, 1372.7136, 1445.0308, 1445.7306, 1450.5134, 1452.1801, 1639.4973, 1656.0496, 3076.9483, 3077.1268, 3168.9336, 3169.0543, 3213.0636, 3213.1735]\n",
      "33 33\n"
     ]
    }
   ],
   "source": [
    "print(Frequencies)\n",
    "freq1= []\n",
    "freq2= []\n",
    "for i in range(len(Frequencies)):\n",
    "    if (i<(len(Frequencies)/2)):\n",
    "        freq1.append(Frequencies[i])\n",
    "    else:\n",
    "        freq2.append(Frequencies[i])\n",
    "print (len(freq1), len(freq2))\n"
   ]
  },
  {
   "cell_type": "code",
   "execution_count": 4,
   "id": "221346ec",
   "metadata": {},
   "outputs": [],
   "source": [
    "percent_difference = []\n",
    "for i in range(len(freq1)):\n",
    "    percent_difference.append(np.absolute(np.around((freq2[i]-freq1[i])/freq1[i],2)))\n",
    "    #print(i,\"       \",np.absolute(np.around((freq2[i]-freq1[i])/freq1[i],2)))"
   ]
  },
  {
   "cell_type": "code",
   "execution_count": 5,
   "id": "2cb4f745",
   "metadata": {},
   "outputs": [
    {
     "name": "stdout",
     "output_type": "stream",
     "text": [
      "443.3576 484.8675 41.51\n",
      "502.8839 533.3715 30.488\n",
      "529.2912 548.7831 19.492\n",
      "563.7682 550.8398 12.928\n",
      "611.0433 574.5806 36.463\n",
      "611.1314 664.2982 53.167\n",
      "935.9118 935.7126 0.199\n",
      "976.5466 998.2839 21.737\n",
      "1023.545 1031.1095 7.565\n",
      "1031.9852 1031.2674 0.718\n",
      "1106.4624 1064.9765 41.486\n",
      "1140.3929 1161.09 20.697\n",
      "1382.8135 1371.79 11.024\n",
      "1383.5372 1372.7136 10.824\n",
      "1443.5307 1445.0308 1.5\n",
      "1444.0788 1445.7306 1.652\n",
      "1457.3739 1450.5134 6.861\n",
      "1458.1476 1452.1801 5.967\n"
     ]
    }
   ],
   "source": [
    "for i in range(len(freq1)):\n",
    "    if (freq1[i] >= 400 and freq1[i] <= 1500):\n",
    "        print (freq1[i], freq2[i], np.around(np.absolute(freq1[i] - freq2[i]),3))"
   ]
  },
  {
   "cell_type": "code",
   "execution_count": 6,
   "id": "36dc7fda",
   "metadata": {},
   "outputs": [
    {
     "data": {
      "image/png": "[encoded data removed]",
      "text/plain": [
       "<Figure size 432x288 with 1 Axes>"
      ]
     },
     "metadata": {
      "needs_background": "light"
     },
     "output_type": "display_data"
    }
   ],
   "source": [
    "# x = freq1\n",
    "# y = percent_differencabce\n",
    "# Create scatter plot\n",
    "plt.scatter(freq1, percent_difference)\n",
    "\n",
    "# Set axis labels and title\n",
    "plt.xlabel('freq1')\n",
    "plt.ylabel('percent_difference')\n",
    "plt.title('Scatter plot of freq1 vs. percent_difference')\n",
    "\n",
    "# Display plot\n",
    "plt.show()"
   ]
  },
  {
   "cell_type": "code",
   "execution_count": 7,
   "id": "d44c9e8f",
   "metadata": {},
   "outputs": [],
   "source": [
    "os.chdir(\"/Users/hassan/Desktop/temp/freqs_6\")"
   ]
  },
  {
   "cell_type": "code",
   "execution_count": 8,
   "id": "b8f4bb50",
   "metadata": {},
   "outputs": [],
   "source": [
    "file1=\"freq-6-anion1.log\"\n",
    "file2=\"freq-6-anion2.log\""
   ]
  },
  {
   "cell_type": "code",
   "execution_count": 9,
   "id": "b006d87e",
   "metadata": {},
   "outputs": [
    {
     "data": {
      "image/png": "[encoded data removed]",
      "text/plain": [
       "<Figure size 432x288 with 1 Axes>"
      ]
     },
     "metadata": {
      "needs_background": "light"
     },
     "output_type": "display_data"
    }
   ],
   "source": [
    "file1=\"freq-6-cation1.log\"\n",
    "file2=\"freq-6-anion1.log\"\n",
    "\n",
    "Frequencies = []\n",
    "filename=file1\n",
    "\n",
    "with open (filename) as inp:\n",
    "    for lines in inp:\n",
    "        if \"Frequencies\" in lines:\n",
    "            words = lines.split()\n",
    "            for i in range(2,len(words)):\n",
    "                Frequencies.append(float(words[i]))\n",
    "filename=file2\n",
    "Frequencies_2 =[]\n",
    "with open (filename) as inp:\n",
    "    for lines in inp:\n",
    "        if \"Frequencies\" in lines:\n",
    "            words = lines.split()\n",
    "            for i in range(2,len(words)):\n",
    "                Frequencies_2.append(float(words[i]))\n",
    "                \n",
    "                \n",
    "percent_difference = []\n",
    "for i in range(len(Frequencies)):\n",
    "    percent_difference.append(np.absolute(np.around((Frequencies[i]-Frequencies_2[i]),2)))\n",
    "\n",
    "plt.scatter(Frequencies, percent_difference)\n",
    "\n",
    "plt.xlabel('freq1')\n",
    "plt.ylabel('percent_difference')\n",
    "plt.title('Scatter plot of freq1 vs. percent_difference')\n",
    "plt.xlim(400, 1500)\n",
    "\n",
    "plt.show()"
   ]
  },
  {
   "cell_type": "code",
   "execution_count": 16,
   "id": "9407241d",
   "metadata": {},
   "outputs": [
    {
     "name": "stdout",
     "output_type": "stream",
     "text": [
      "NO Raman data found!!\n"
     ]
    },
    {
     "data": {
      "image/png": "[encoded data removed]",
      "text/plain": [
       "<Figure size 432x288 with 1 Axes>"
      ]
     },
     "metadata": {
      "needs_background": "light"
     },
     "output_type": "display_data"
    },
    {
     "name": "stdout",
     "output_type": "stream",
     "text": [
      "Number of atoms =  13\n",
      "Frequencies =  66\n"
     ]
    }
   ],
   "source": [
    "import os\n",
    "import numpy as np\n",
    "import matplotlib.pyplot as plt\n",
    "\n",
    "os.chdir(\"/Users/hassan/Desktop/temp/sulfides/logs/\")\n",
    "filename = '1-test.log'\n",
    "\n",
    "NAtoms = 0\n",
    "IR_present = False\n",
    "Raman_present = False\n",
    "Frequencies = []\n",
    "IR_intensities = []\n",
    "Raman_intensities = []\n",
    "\n",
    "with open(filename) as inp:\n",
    "    for lines in inp:\n",
    "        if \"NAtoms\" in lines:\n",
    "            words = lines.split()\n",
    "            NAtoms = int(words[1])\n",
    "        if \"Frequencies\" in lines:\n",
    "            words = lines.split()\n",
    "            for i in range(2, len(words)):\n",
    "                Frequencies.append(float(words[i]))\n",
    "        if \"IR Inten\" in lines:\n",
    "            IR_present = True\n",
    "            words = lines.split()\n",
    "            for i in range(3, len(words)):\n",
    "                IR_intensities.append(float(words[i]))\n",
    "        if \"Raman Activ\" in lines:\n",
    "            Raman_present = True\n",
    "            words = lines.split()\n",
    "            for i in range(3, len(words)):\n",
    "                Raman_intensities.append(float(words[i]))\n",
    "\n",
    "nFreq = 3 * NAtoms - 6\n",
    "if IR_present == False:\n",
    "    print(\"NO IR data found!!\")\n",
    "if Raman_present == False:\n",
    "    print(\"NO Raman data found!!\")\n",
    "\n",
    "if Frequencies[0] < 0:\n",
    "    print(\"Warning: One or more imaginary frequencies detected!\")\n",
    "\n",
    "x = Frequencies\n",
    "y1 = IR_intensities\n",
    "y2 = Raman_intensities\n",
    "\n",
    "# Define the Gaussian function\n",
    "def gaussian(x, mu, sigma, intensity):\n",
    "    return intensity * np.exp(-(x - mu)**2 / (2 * sigma**2))\n",
    "\n",
    "# Define the broadening function\n",
    "def broadening(frequencies, intensities, sigma, num_points=1000):\n",
    "    x_vals = np.linspace(min(frequencies) - 10 * sigma, max(frequencies) + 10 * sigma, num_points)\n",
    "    y_vals = np.zeros(num_points)\n",
    "\n",
    "    for freq, intensity in zip(frequencies, intensities):\n",
    "        y_vals += gaussian(x_vals, freq, sigma, intensity)\n",
    "\n",
    "    return x_vals, y_vals\n",
    "\n",
    "sigma = 10  # Adjust this value to change the width of Gaussian peaks\n",
    "\n",
    "if IR_present:\n",
    "    x_ir, y_ir = broadening(x, y1, sigma)\n",
    "    plt.plot(x_ir, y_ir, color='hotpink')\n",
    "    plt.title(\"IR Spectrum\")\n",
    "    plt.xlabel(\"Frequencies (cm-1)\")\n",
    "    plt.ylabel(\"Intensity\")\n",
    "    plt.show()\n",
    "\n",
    "if Raman_present:\n",
    "    x_raman, y_raman = broadening(x, y2, sigma)\n",
    "    plt.plot(x_raman, y_raman, color='teal')\n",
    "    plt.title(\"Raman Spectrum\")\n",
    "    plt.xlabel(\"Frequencies (cm-1)\")\n",
    "    plt.ylabel(\"Intensity\")\n",
    "    plt.show()\n",
    "\n",
    "print(\"Number of atoms = \", NAtoms)\n",
    "print(\"Frequencies = \", len(IR_intensities))\n"
   ]
  },
  {
   "cell_type": "code",
   "execution_count": 19,
   "id": "2db61a20",
   "metadata": {},
   "outputs": [
    {
     "name": "stdout",
     "output_type": "stream",
     "text": [
      "NO Raman data found!!\n"
     ]
    },
    {
     "data": {
      "image/png": "[encoded data removed]",
      "text/plain": [
       "<Figure size 432x288 with 1 Axes>"
      ]
     },
     "metadata": {
      "needs_background": "light"
     },
     "output_type": "display_data"
    },
    {
     "name": "stdout",
     "output_type": "stream",
     "text": [
      "Number of atoms =  13\n",
      "Frequencies =  66\n"
     ]
    }
   ],
   "source": [
    "import os\n",
    "import numpy as np\n",
    "import matplotlib.pyplot as plt\n",
    "\n",
    "os.chdir(\"/Users/hassan/Desktop/temp/sulfides/logs/\")\n",
    "filename = '1-test.log'\n",
    "\n",
    "NAtoms = 0\n",
    "IR_present = False\n",
    "Raman_present = False\n",
    "Frequencies = []\n",
    "IR_intensities = []\n",
    "Raman_intensities = []\n",
    "\n",
    "with open(filename) as inp:\n",
    "    for lines in inp:\n",
    "        if \"NAtoms\" in lines:\n",
    "            words = lines.split()\n",
    "            NAtoms = int(words[1])\n",
    "        if \"Frequencies\" in lines:\n",
    "            words = lines.split()\n",
    "            for i in range(2, len(words)):\n",
    "                Frequencies.append(float(words[i]))\n",
    "        if \"IR Inten\" in lines:\n",
    "            IR_present = True\n",
    "            words = lines.split()\n",
    "            for i in range(3, len(words)):\n",
    "                IR_intensities.append(float(words[i]))\n",
    "        if \"Raman Activ\" in lines:\n",
    "            Raman_present = True\n",
    "            words = lines.split()\n",
    "            for i in range(3, len(words)):\n",
    "                Raman_intensities.append(float(words[i]))\n",
    "\n",
    "nFreq = 3 * NAtoms - 6\n",
    "if IR_present == False:\n",
    "    print(\"NO IR data found!!\")\n",
    "if Raman_present == False:\n",
    "    print(\"NO Raman data found!!\")\n",
    "\n",
    "if Frequencies[0] < 0:\n",
    "    print(\"Warning: One or more imaginary frequencies detected!\")\n",
    "\n",
    "x = Frequencies\n",
    "y1 = IR_intensities\n",
    "y2 = Raman_intensities\n",
    "\n",
    "\n",
    "\n",
    "# Define the broadening function\n",
    "def broadening(frequencies, intensities, sigma, num_points=1000):\n",
    "    x_vals = np.linspace(min(frequencies) - 10 * sigma, max(frequencies) + 10 * sigma, num_points)\n",
    "    y_vals = np.zeros(num_points)\n",
    "\n",
    "    for freq, intensity in zip(frequencies, intensities):\n",
    "        y_vals += gaussian(x_vals, freq, sigma, intensity)\n",
    "\n",
    "    return x_vals, y_vals\n",
    "\n",
    "def gaussian(x, mu, sigma):\n",
    "    return np.exp(-0.5 * ((x - mu) / sigma) ** 2)\n",
    "\n",
    "sigma = 10\n",
    "x_plot = np.linspace(min(Frequencies)-100, max(Frequencies)+100, 1000)\n",
    "\n",
    "if IR_present == True:\n",
    "    y1_plot = sum(gaussian(x_plot, mu, sigma) * intensity for mu, intensity in zip(Frequencies, IR_intensities))\n",
    "    plt.plot(x_plot, y1_plot, color='hotpink')\n",
    "    plt.title(\"IR Spectrum\")\n",
    "    plt.xlabel(\"Frequencies (cm-1)\")\n",
    "    plt.ylabel(\"Intensity\")\n",
    "    plt.gca().invert_yaxis()  # Add this line to invert the y-axis\n",
    "    plt.show()\n",
    "\n",
    "if Raman_present == True:\n",
    "    y2_plot = sum(gaussian(x_plot, mu, sigma) * intensity for mu, intensity in zip(Frequencies, Raman_intensities))\n",
    "    plt.plot(x_plot, y2_plot, color='teal')\n",
    "    plt.title(\"Raman Spectrum\")\n",
    "    plt.xlabel(\"Frequencies (cm-1)\")\n",
    "    plt.ylabel(\"Intensity\")\n",
    "    plt.gca().invert_yaxis()  # Add this line to invert the y-axis\n",
    "    plt.show()\n",
    "\n",
    "print(\"Number of atoms = \", NAtoms)\n",
    "print(\"Frequencies = \", len(IR_intensities))"
   ]
  }
 ],
 "metadata": {
  "kernelspec": {
   "display_name": "Python 3 (ipykernel)",
   "language": "python",
   "name": "python3"
  },
  "language_info": {
   "codemirror_mode": {
    "name": "ipython",
    "version": 3
   },
   "file_extension": ".py",
   "mimetype": "text/x-python",
   "name": "python",
   "nbconvert_exporter": "python",
   "pygments_lexer": "ipython3",
   "version": "3.9.12"
  }
 },
 "nbformat": 4,
 "nbformat_minor": 5
}
